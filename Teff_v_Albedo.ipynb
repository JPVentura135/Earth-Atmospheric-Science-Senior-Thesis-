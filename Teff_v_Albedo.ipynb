{
 "cells": [
  {
   "cell_type": "code",
   "execution_count": null,
   "metadata": {},
   "outputs": [],
   "source": [
    "import matplotlib.pyplot as plt\n",
    "import astropy.units as u\n",
    "import numpy as np\n",
    "import pandas as pd\n",
    "%matplotlib inline"
   ]
  },
  {
   "cell_type": "code",
   "execution_count": 2,
   "metadata": {},
   "outputs": [],
   "source": [
    "sol_flux = 1366.0 \n",
    "albedo  = [0.0,0.1,0.2,0.3,0.4,0.5,0.6,0.7,0.8,0.9,1.0]\n",
    "sigma = 5.67e-8\n",
    "t_eff = []\n",
    "\n",
    "for alb in albedo:\n",
    "    te = ((sol_flux/(4*sigma))*(1-alb))**0.25\n",
    "    t_eff.append(te)"
   ]
  },
  {
   "cell_type": "code",
   "execution_count": 3,
   "metadata": {
    "scrolled": false
   },
   "outputs": [
    {
     "data": {
      "text/plain": [
       "Text(0.5,1,'$T_{eff}$ $vs$ $Albedo$ $($ $No$ $Atmosphere$ $)$')"
      ]
     },
     "execution_count": 3,
     "metadata": {},
     "output_type": "execute_result"
    },
    {
     "data": {
      "image/png": "[encoded data removed]",
      "text/plain": [
       "<Figure size 432x288 with 1 Axes>"
      ]
     },
     "metadata": {},
     "output_type": "display_data"
    }
   ],
   "source": [
    "plt.figure()\n",
    "plt.plot(albedo,t_eff,'crimson')\n",
    "plt.xlim(0.0,1.0)\n",
    "plt.xlabel('$Albedo$', fontsize = 14)\n",
    "plt.ylabel('$T_{eff}$ $[K]$',fontsize = 14)\n",
    "plt.title('$T_{eff}$ $vs$ $Albedo$ $($ $No$ $Atmosphere$ $)$')"
   ]
  },
  {
   "cell_type": "code",
   "execution_count": 7,
   "metadata": {},
   "outputs": [
    {
     "data": {
      "text/plain": [
       "[278.5812689476053,\n",
       " 271.33919963888076,\n",
       " 263.4658975326547,\n",
       " 254.81584054796193,\n",
       " 245.18264445158434,\n",
       " 234.25799041487224,\n",
       " 221.54752877681182,\n",
       " 206.1732068017633,\n",
       " 186.2985227567402,\n",
       " 156.6577599532054,\n",
       " 0.0]"
      ]
     },
     "execution_count": 7,
     "metadata": {},
     "output_type": "execute_result"
    }
   ],
   "source": [
    "t_eff[:]"
   ]
  },
  {
   "cell_type": "code",
   "execution_count": 17,
   "metadata": {},
   "outputs": [
    {
     "name": "stdout",
     "output_type": "stream",
     "text": [
      "1.0\n",
      "1.0\n",
      "1.0\n",
      "1.0\n",
      "1.0\n",
      "1.0\n",
      "1.0\n",
      "1.0\n",
      "1.0\n",
      "1.0\n",
      "1.0\n"
     ]
    }
   ],
   "source": [
    "#dtemp = []\n",
    "#for i in t_eff[1:]:\n",
    "#    delta_t = (i - (i[-1]))\n",
    "#    dtemp.append(delta_t)\n",
    "\n",
    "dtemp = []\n",
    "for i in t_eff:\n",
    "    print()"
   ]
  },
  {
   "cell_type": "code",
   "execution_count": 13,
   "metadata": {
    "scrolled": true
   },
   "outputs": [
    {
     "data": {
      "text/plain": [
       "[278.5812689476053,\n",
       " 271.33919963888076,\n",
       " 263.4658975326547,\n",
       " 254.81584054796193,\n",
       " 245.18264445158434,\n",
       " 234.25799041487224,\n",
       " 221.54752877681182,\n",
       " 206.1732068017633,\n",
       " 186.2985227567402,\n",
       " 156.6577599532054,\n",
       " 0.0]"
      ]
     },
     "execution_count": 13,
     "metadata": {},
     "output_type": "execute_result"
    }
   ],
   "source": [
    "t_eff"
   ]
  },
  {
   "cell_type": "code",
   "execution_count": null,
   "metadata": {},
   "outputs": [],
   "source": [
    "# T_e as a function of orbital radius ; constant albedo  "
   ]
  }
 ],
 "metadata": {
  "kernelspec": {
   "display_name": "Python 3",
   "language": "python",
   "name": "python3"
  },
  "language_info": {
   "codemirror_mode": {
    "name": "ipython",
    "version": 3
   },
   "file_extension": ".py",
   "mimetype": "text/x-python",
   "name": "python",
   "nbconvert_exporter": "python",
   "pygments_lexer": "ipython3",
   "version": "3.6.5"
  }
 },
 "nbformat": 4,
 "nbformat_minor": 2
}
