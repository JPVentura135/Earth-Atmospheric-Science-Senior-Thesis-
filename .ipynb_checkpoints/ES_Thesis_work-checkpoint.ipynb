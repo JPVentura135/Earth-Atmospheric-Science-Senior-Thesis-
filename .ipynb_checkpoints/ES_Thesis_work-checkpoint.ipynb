{
 "cells": [
  {
   "cell_type": "markdown",
   "metadata": {},
   "source": [
    "Jean-paul Ventura  \n",
    "City University of New York, Hunter College.  \n",
    "Advisor: Randye L. Rutberg. \n",
    "\n"
   ]
  },
  {
   "cell_type": "markdown",
   "metadata": {},
   "source": [
    "# Earth Science Senior Thesis Work:\n",
    "\n",
    "## On the role of the of the carbon cycle and plate tectonics in planetary habitability. Earth as an analog."
   ]
  },
  {
   "cell_type": "markdown",
   "metadata": {},
   "source": [
    "In the first order discussion about the habitability of an environment or planet, temperature is the paramount quantity to investigate. This is because, under the current description of planetary habitability, a temperature regime which supports liquid water is understood to be a necessary requirement for the potential for life. For a terrestrial analog, temperature via stellar flux and surface water content will determine the exposed surface land fraction, which influences planetary surface weathering behavior. This is parameter is important because the silicate-weathering feedback, which is governed by this land fraction, determines the width of the habitability zone in both space and time. This feedback mechanism serves as a control on atmospheric carbon over geologic timescales (>Myr) and is characterized by the dissolution of atmospheric carbon in precipitation and subsequent uptake in exposed silicate rock via chemical reaction between carbonic acid in the rainwater and minerals in the silicate. Furthermore, in addition to stellar flux and distance from the host star, surface and geologic effects on the planetary body are of crucial importance in determining the suitability for life based on their effect on surface temperature.\n",
    "\n"
   ]
  },
  {
   "cell_type": "markdown",
   "metadata": {},
   "source": [
    "### Introduction"
   ]
  },
  {
   "cell_type": "markdown",
   "metadata": {},
   "source": [
    "The habitable zone (HZ) is traditionally defined as the region around a star where liquid water can exist in stable phase at the surface of a planet. (Kasting et al 1993). Since climate systems include both positive and negative feedbacks which also define the planetary surface temperature, a planets surface temperature is non-trivially related to potential habitability. The inner orbital distances of the HZ are defined as the \"moist greenhouse\" region, characterized by the planet becoming hot enough (surface temperature ~340K) that large amounts of water can be lost by photolysis in the stratosphere and subsequent hydrogen escape to space. The outer edge of the zone is set where CO2 reaches a high enough pressure that it can no longer provide warming, either because of increased Rayleigh scattering or because it condenses at the surface, which then results in permanent global glaciation. These limits, however, do not represent strict barriers to all types of life. For example, on Earth, life survived glaciations that may have been global, a period known as \"snowball earth\" ocurring 600-700 million years ago. (kirschvink 1992;Hoffman et al, 1998.) ... In all, to begin to be able to interpret the sensitivities provided by climate feedbacks, a model of steady-state planetary energy balance must be employed."
   ]
  },
  {
   "cell_type": "code",
   "execution_count": 2,
   "metadata": {
    "collapsed": true
   },
   "outputs": [],
   "source": [
    "import matplotlib.pyplot as plt\n",
    "import astropy.units as u\n",
    "import numpy as np"
   ]
  },
  {
   "cell_type": "code",
   "execution_count": 3,
   "metadata": {
    "collapsed": true
   },
   "outputs": [],
   "source": [
    "Albedo = 0.7 #unitless qty, % surface reflectivity of a body  "
   ]
  },
  {
   "cell_type": "markdown",
   "metadata": {},
   "source": [
    "#### A closer look at planetary energy balance"
   ]
  },
  {
   "cell_type": "markdown",
   "metadata": {},
   "source": [
    "To first order, Earths temperature depends on 3 factors:  \n",
    "\n",
    "1.) The stellar flux available at the distance of earths orbit.  \n",
    "2.) Earths reflectivity (AKA albedo [%])  \n",
    "3.) The amount of warming provided by the atmosphere (Greenhouse effects).  \n",
    "\n",
    "Stellar flux, S, is the amount of solar energy reaching the top of Earths atmosphere. Not all of this energy is is absorbed, however. $\\approx$30% is reflected, mostly by clouds. This reflectivity or albedo, is usually represented as a fraction of the total incident starlight that is reflected from the planet as a whole. To calculate 3.), we treat Earth as a blackbody (although this is of course an approximation not considering that the atmosphere radiates better at some wavelength than others because of the thermal and optical opacity of gases like H20 and CO2). We start by defining $T_{eff}$, the effective radiating temperature of the planet or the energy that a true blackbody would need to radiate the amount of energy that earth does.\n",
    "\n",
    "We then use the Stefan-Boltzman equation, which describes the power radiated from a body of mass based on its temperature, to calculate the energy emitted by Earth and set it equal to the incident energy from the sun."
   ]
  },
  {
   "cell_type": "markdown",
   "metadata": {},
   "source": [
    "#### Modeling Planetary Energy Balance"
   ]
  },
  {
   "cell_type": "markdown",
   "metadata": {},
   "source": [
    "In order to start modeling planetary energy balance, we start with a simple equation regarding a steady state system:  \n",
    "\n",
    "$E_{emitted}$ $=$ $E_{absorbed}$ $\\space\\space\\space\\space$ $(i)$\n",
    "\n",
    "Treating Earth as a blackbody  with an effectve radiating temperature, $T_{eff}$, The Stefan-Boltzmann law tells us that for a blackbody, in this case, the Earth:\n",
    "\n",
    "\n",
    "$E_{emitted}$ $=$ $4\\pi R_{Earth}^2$ $\\times$ $\\sigma$ $T_{eff}^4$\n",
    "\n",
    "\n",
    "\n",
    "Now for the energy absorbed by Earth:  \n",
    "\n",
    "From the sun, Earth would look like a circle whose area is $\\pi R_{Earth}^2$. Note that this is an area of Earth as a disk. We make this approximation since not all rays from the sun strike the Earth surface perpendicularly. Thus,\n",
    "\n",
    "$Energy \\space absorbed \\space by \\space Earth$ \n",
    "$=$  $Energy \\space intercepted$ - $Energy \\space reflected$\n",
    "\n",
    "$=$ $(\\pi R_{Earth}^2 \\times S)$ $-$ $(\\pi R_{Earth}^2 \\times S \\times A)$  \n",
    "\n",
    "$=$ $\\pi R_{Earth}^2 \\times S(1-A)$ $\\space\\space\\space\\space$ $(ii)$\n",
    "\n",
    "\n",
    "Where the stellar flux, $S$, is given by:\n",
    "\n",
    "$S$ $=$ $S_{o}$ $(\\frac{r_{o}}{r})^2$\n",
    "\n",
    "where $r_{o}$ is the radius of \n",
    "\n",
    "    \n",
    "Revisiting equation $(i)$ and equating with $(ii)$, we have\n",
    ":  \n",
    "\n",
    "\n",
    "\n",
    "$4\\pi R_{Earth}^2$ $\\times$ $\\sigma$ $T_{eff}^4$ $=$ $\\pi R_{Earth}^2 \\times S(1-A)$\n",
    "\n",
    "$\\therefore$ $\\space\\space$ $\\sigma$ $T_{eff}^4$ $=$ $\\frac{S}{4}(1-A)$\n",
    "\n"
   ]
  },
  {
   "cell_type": "markdown",
   "metadata": {
    "collapsed": true
   },
   "source": [
    "#### Computing the circumstellar habitability zone around a main sequence star. (dM = 3.0 )"
   ]
  },
  {
   "cell_type": "markdown",
   "metadata": {},
   "source": [
    "To compute the orbital distances in which water on the surface of a terrestrial planet can exist in stable phase we start with estimating the stars absolute visual magnitude, $M_{v}$, based on apparent visual magnitude, $m_{v}$."
   ]
  },
  {
   "cell_type": "markdown",
   "metadata": {},
   "source": [
    "$M_{v}$ $=$ $m_{v}$ $-$ $5\\times log(\\frac{d}{10})$"
   ]
  },
  {
   "cell_type": "markdown",
   "metadata": {},
   "source": [
    "Where: \n",
    "\n",
    "$M_{v}$ $=$ absolute visual magnitude of the star   \n",
    "       \n",
    "$m_{v}$ $=$ apparent visual magnitude of the star\n",
    "\n",
    "$d$ $\\space$ $=$ distance from Earth to the star in parsecs"
   ]
  },
  {
   "cell_type": "markdown",
   "metadata": {
    "collapsed": true
   },
   "source": [
    "Using values for the M-dwarf Gliese 581:"
   ]
  },
  {
   "cell_type": "code",
   "execution_count": 5,
   "metadata": {},
   "outputs": [
    {
     "name": "stdout",
     "output_type": "stream",
     "text": [
      "Absolute visual magnitude of Gliese 681:  11.5671283339\n"
     ]
    }
   ],
   "source": [
    "m_v = 10.55\n",
    "d   = 6.26 # parsecs\n",
    "\n",
    "M_v = m_v - (5.0 * np.log10(d/10)) \n",
    "\n",
    "print('Absolute visual magnitude of Gliese 681: ', M_v)"
   ]
  },
  {
   "cell_type": "markdown",
   "metadata": {},
   "source": [
    "We then compute the bolometric magnitude, $M_{bol}$,\n",
    "of the host star:"
   ]
  },
  {
   "cell_type": "markdown",
   "metadata": {},
   "source": [
    "$M_{bol}$ $=$ $M_v + BC$  "
   ]
  },
  {
   "cell_type": "markdown",
   "metadata": {},
   "source": [
    "Where:"
   ]
  },
  {
   "cell_type": "markdown",
   "metadata": {},
   "source": [
    "$BC$ $=$ $Bolometric$ $correction$ $constant$ "
   ]
  },
  {
   "cell_type": "code",
   "execution_count": 6,
   "metadata": {},
   "outputs": [
    {
     "name": "stdout",
     "output_type": "stream",
     "text": [
      "The bolometric magnitude of Gliese 681 is:  9.56712833395\n"
     ]
    }
   ],
   "source": [
    "BC = -2.0 # dimensionless quantity for the M spectral class \n",
    "\n",
    "M_bol = M_v + BC\n",
    "\n",
    "print('The bolometric magnitude of Gliese 681 is: ',M_bol)"
   ]
  },
  {
   "cell_type": "markdown",
   "metadata": {},
   "source": [
    "Now using the bolometric magnitude, $M_{bol}$, we can calculate an absolute luminosity, $L_{sol}$, and then define the boundaries of the habitable zone.\n",
    "    "
   ]
  },
  {
   "cell_type": "markdown",
   "metadata": {},
   "source": [
    "$\\Large L_{abs}$ $=$ $\\Large\\frac{L_{Gl 581}}{L_{sol}}$ $=$ $\\Large10^\\frac{M_{bol}-M_{sol}}{P.R.}$ "
   ]
  },
  {
   "cell_type": "markdown",
   "metadata": {},
   "source": [
    "where:"
   ]
  },
  {
   "cell_type": "markdown",
   "metadata": {},
   "source": [
    "$M_{sol}$ $=$ the absolute visual magnitude of the sun."
   ]
  },
  {
   "cell_type": "markdown",
   "metadata": {},
   "source": [
    "$P.R$ $=$ $The$ $Pogson$ $Ratio$, $a$ $factor$ $which$ $defines$ $the$ $difference$ $in$ $brightness$ $between$ $two$ $stars$ $of$ $differing$ $magnitude$"
   ]
  },
  {
   "cell_type": "code",
   "execution_count": 7,
   "metadata": {},
   "outputs": [
    {
     "name": "stdout",
     "output_type": "stream",
     "text": [
      "Absolute luminosity of Gliese 681:  0.0115119439501\n"
     ]
    }
   ],
   "source": [
    "M_sol = 4.72\n",
    "\n",
    "abs_luminosity = 10**((M_bol-M_sol)/(-2.5))\n",
    "\n",
    "print('Absolute luminosity of Gliese 681: ', abs_luminosity)"
   ]
  },
  {
   "cell_type": "markdown",
   "metadata": {},
   "source": [
    "#### Approximating the boundaries of the circumstellar habitability zone."
   ]
  },
  {
   "cell_type": "markdown",
   "metadata": {},
   "source": [
    "$\\large r_{inner}$ $=$ $\\large \\sqrt{\\frac{L_{abs}}{-1.1}}$"
   ]
  },
  {
   "cell_type": "markdown",
   "metadata": {},
   "source": [
    "$\\large r_{outer}$ $=$ $\\large \\sqrt{\\frac{L_{abs}}{0.53}}$"
   ]
  },
  {
   "cell_type": "code",
   "execution_count": 25,
   "metadata": {},
   "outputs": [
    {
     "data": {
      "text/latex": [
       "$0.10230056 \\; \\mathrm{AU}$"
      ],
      "text/plain": [
       "<Quantity 0.10230055518431395 AU>"
      ]
     },
     "execution_count": 25,
     "metadata": {},
     "output_type": "execute_result"
    }
   ],
   "source": [
    "r_inner = np.sqrt((abs_luminosity/1.1)) * u.AU\n",
    "r_inner "
   ]
  },
  {
   "cell_type": "code",
   "execution_count": 28,
   "metadata": {},
   "outputs": [
    {
     "data": {
      "text/latex": [
       "$0.14737927 \\; \\mathrm{AU}$"
      ],
      "text/plain": [
       "<Quantity 0.14737926910692692 AU>"
      ]
     },
     "execution_count": 28,
     "metadata": {},
     "output_type": "execute_result"
    }
   ],
   "source": [
    "r_outer = np.sqrt((abs_luminosity/0.53)) * u.AU\n",
    "r_outer "
   ]
  },
  {
   "cell_type": "markdown",
   "metadata": {},
   "source": [
    "Having aquired the orbital range for our habitability zone, lets return to calculating and interpreting planetary effective temperature."
   ]
  },
  {
   "cell_type": "markdown",
   "metadata": {},
   "source": [
    "### Computing the effective radiating temperature of a terrestrial analog around an Early M dwarf."
   ]
  },
  {
   "cell_type": "markdown",
   "metadata": {},
   "source": [
    "$S$ $=$ $S_{o}$ $(\\frac{r_{o}}{r})^2$"
   ]
  },
  {
   "cell_type": "code",
   "execution_count": null,
   "metadata": {
    "collapsed": true
   },
   "outputs": [],
   "source": [
    "S = 1366"
   ]
  },
  {
   "cell_type": "markdown",
   "metadata": {},
   "source": [
    "$T_{eff}$ $=$ $\\sqrt[4]{\\frac{S}{4\\sigma}(1-A)}$ "
   ]
  },
  {
   "cell_type": "markdown",
   "metadata": {},
   "source": [
    "# ^^^ Develop explanation for this section ^^^"
   ]
  },
  {
   "cell_type": "code",
   "execution_count": null,
   "metadata": {
    "collapsed": true
   },
   "outputs": [],
   "source": []
  }
 ],
 "metadata": {
  "kernelspec": {
   "display_name": "Python 3",
   "language": "python",
   "name": "python3"
  },
  "language_info": {
   "codemirror_mode": {
    "name": "ipython",
    "version": 3
   },
   "file_extension": ".py",
   "mimetype": "text/x-python",
   "name": "python",
   "nbconvert_exporter": "python",
   "pygments_lexer": "ipython3",
   "version": "3.6.3"
  }
 },
 "nbformat": 4,
 "nbformat_minor": 2
}
